{
  "nbformat": 4,
  "nbformat_minor": 0,
  "metadata": {
    "colab": {
      "provenance": []
    },
    "kernelspec": {
      "name": "python3",
      "display_name": "Python 3"
    },
    "language_info": {
      "name": "python"
    }
  },
  "cells": [
    {
      "cell_type": "markdown",
      "source": [
        "# **Programming Method 23/1**"
      ],
      "metadata": {
        "id": "5tbymofadb7-"
      }
    },
    {
      "cell_type": "code",
      "execution_count": null,
      "metadata": {
        "colab": {
          "base_uri": "https://localhost:8080/"
        },
        "id": "7Vg_nJ8yaalH",
        "outputId": "621bed83-53fb-46eb-d1d7-b1553539f9ad"
      },
      "outputs": [
        {
          "output_type": "stream",
          "name": "stdout",
          "text": [
            "1. Parrot is a bird\n",
            "2. Sparrow is also a bird\n",
            "3. Parrot is 10 years old\n",
            "4. Sparrow is 15 years old\n"
          ]
        }
      ],
      "source": [
        "# Procedural Programming\n",
        "# variable\n",
        "species = 'bird';\n",
        "parrot_name = 'Parrot';\n",
        "sparrow_name = 'Sparrow';\n",
        "parrot_age = '10';\n",
        "sparrow_age = '15';\n",
        "\n",
        "# view variable parrot (burung beo) & sparrow (burung gereja)\n",
        "print('1. Parrot is a {}'.format(species))\n",
        "print('2. Sparrow is also a {}'.format(species))\n",
        "print('3. {0} is {1} years old'.format(parrot_name, parrot_age))\n",
        "print('4. {0} is {1} years old'.format(sparrow_name, sparrow_age))"
      ]
    },
    {
      "cell_type": "code",
      "source": [
        "# variable\n",
        "species = 'bird'\n",
        "\n",
        "# method/functions\n",
        "def bird_parrot(name, age):\n",
        "  print('3. {0} is a {1} years old'.format(name, age))\n",
        "\n",
        "def bird_sparrow(name, age):\n",
        "  print('4. {0} is {1} years old'.format(name, age))\n",
        "\n",
        "# view variable parrot (burung beo) & sparrow (burung gereja)\n",
        "print('1. Parrot is a {}'.format(species))\n",
        "print('2. Sparrow is also a {}'.format(species))\n",
        "\n",
        "# call functions\n",
        "bird_parrot('Parrot', 10)\n",
        "bird_sparrow('Sparrow', 15)\n"
      ],
      "metadata": {
        "colab": {
          "base_uri": "https://localhost:8080/"
        },
        "id": "EO5RHRIwfllX",
        "outputId": "aad3022b-1505-4de1-db2f-e5ddd91d5f25"
      },
      "execution_count": null,
      "outputs": [
        {
          "output_type": "stream",
          "name": "stdout",
          "text": [
            "1. Parrot is a bird\n",
            "2. Sparrow is also a bird\n",
            "3. Parrot is a 10 years old\n",
            "4. Sparrow is 15 years old\n"
          ]
        }
      ]
    },
    {
      "cell_type": "code",
      "source": [
        "# Object Oriented\n",
        "# create class\n",
        "class animal:\n",
        "  # variable\n",
        "  species = 'bird'\n",
        "  # method/constructor\n",
        "  def __init__(self, name, age):\n",
        "    self.name = name;\n",
        "    self.age = age;\n",
        "\n",
        "# create object\n",
        "parrot = animal('Parrot', 10)\n",
        "sparrow = animal('Sparrow', 15)\n",
        "\n",
        "# view attributes parrot (burung beo) & sparrow (burung gereja)\n",
        "print('1. Parrot is a {}'.format(parrot.__class__.species))\n",
        "print('2. Sparrow is also a {}'.format(sparrow.__class__.species))\n",
        "print('3. {0} is {1} years old'.format(parrot.name, parrot.age))\n",
        "print('4. {0} is {1} years old'.format(sparrow.name, sparrow.age))\n"
      ],
      "metadata": {
        "colab": {
          "base_uri": "https://localhost:8080/"
        },
        "id": "ynThr_qNha8F",
        "outputId": "e4905be4-e507-4076-a8f5-7a5d74bc1741"
      },
      "execution_count": null,
      "outputs": [
        {
          "output_type": "stream",
          "name": "stdout",
          "text": [
            "1. Parrot is a bird\n",
            "2. Sparrow is also a bird\n",
            "3. Parrot is 10 years old\n",
            "4. Sparrow is 15 years old\n"
          ]
        }
      ]
    },
    {
      "cell_type": "code",
      "source": [
        "# Tugas\n",
        "\n",
        "import random\n",
        "# generate random number\n",
        "n = random.randrange(1, 10)\n",
        "\n",
        "while True:\n",
        "  # user enter number\n",
        "  guess = int(input('Enter any number: '))\n",
        "\n",
        "  # check the guess\n",
        "  if guess < n:\n",
        "    print('Input too low! Try again.')\n",
        "  elif guess > n:\n",
        "    print('Input too high! Try again.')\n",
        "  else:\n",
        "    # if correct, Done\n",
        "    print('You guessed it right!!!')\n",
        "    break"
      ],
      "metadata": {
        "colab": {
          "base_uri": "https://localhost:8080/"
        },
        "id": "XSR-sENCj1D-",
        "outputId": "13435e63-a6b6-4b84-a491-4a1dd98a9532"
      },
      "execution_count": null,
      "outputs": [
        {
          "output_type": "stream",
          "name": "stdout",
          "text": [
            "Enter any number: 6\n",
            "Input too high! Try again.\n",
            "Enter any number: 7\n",
            "Input too high! Try again.\n",
            "Enter any number: 8\n",
            "Input too high! Try again.\n",
            "Enter any number: 9\n",
            "Input too high! Try again.\n",
            "Enter any number: 1\n",
            "Input too low! Try again.\n",
            "Enter any number: 2\n",
            "Input too low! Try again.\n",
            "Enter any number: 4\n",
            "Input too low! Try again.\n",
            "Enter any number: 5\n",
            "You guessed it right!!!\n"
          ]
        }
      ]
    },
    {
      "cell_type": "code",
      "source": [
        "# Tugas\n",
        "# Functional\n",
        "\n",
        "import random\n",
        "\n",
        "n = random.randrange(1, 20)\n",
        "kondisi = True\n",
        "\n",
        "def hasil(n, guess):\n",
        "  if guess < n:\n",
        "    print('Input too low! Try again.')\n",
        "    return True\n",
        "  elif guess > n:\n",
        "    print('Input too high! Try again.')\n",
        "    return True\n",
        "  else:\n",
        "    print('You guessed it right!!!')\n",
        "    return False\n",
        "\n",
        "while kondisi:\n",
        "  guess = int(input('Enter any number: '))\n",
        "  kondisi = hasil(n, guess)"
      ],
      "metadata": {
        "colab": {
          "base_uri": "https://localhost:8080/"
        },
        "id": "M-jAwkMql2hF",
        "outputId": "2ccdee62-c330-4c9b-ec22-38d814e2eb69"
      },
      "execution_count": null,
      "outputs": [
        {
          "output_type": "stream",
          "name": "stdout",
          "text": [
            "Enter any number: 17\n",
            "Input too high! Try again.\n",
            "Enter any number: 10\n",
            "Input too low! Try again.\n",
            "Enter any number: 15\n",
            "You guessed it right!!!\n"
          ]
        }
      ]
    },
    {
      "cell_type": "markdown",
      "source": [
        "# **OOP - 25/1/2024**"
      ],
      "metadata": {
        "id": "6mog0dumsrlY"
      }
    },
    {
      "cell_type": "code",
      "source": [
        "# Any Empty List\n",
        "empty_list = []\n",
        "\n",
        "# A list of String\n",
        "str_list = ['Life', 'Is', 'Beautiful']\n",
        "\n",
        "# A list of Integers\n",
        "int_list = [1, 4, 5, 9, 18]\n",
        "\n",
        "# Mixed items list\n",
        "mixed_list = ['This', 9, 'is', 18, 45.9, 'a', 54, 'mixed', 99, 'list']\n",
        "\n",
        "# View/print the list\n",
        "print(empty_list)\n",
        "print(str_list)\n",
        "print(type(str_list))\n",
        "print(int_list)\n",
        "print(mixed_list)"
      ],
      "metadata": {
        "colab": {
          "base_uri": "https://localhost:8080/"
        },
        "id": "H0UJH_Evsv_-",
        "outputId": "5bf659e3-d209-4a81-8a2c-750a86ec689f"
      },
      "execution_count": null,
      "outputs": [
        {
          "output_type": "stream",
          "name": "stdout",
          "text": [
            "[]\n",
            "['Life', 'Is', 'Beautiful']\n",
            "<class 'list'>\n",
            "[1, 4, 5, 9, 18]\n",
            "['This', 9, 'is', 18, 45.9, 'a', 54, 'mixed', 99, 'list']\n"
          ]
        }
      ]
    },
    {
      "cell_type": "code",
      "source": [
        "# Create dictionary with string keys\n",
        "prices = {\n",
        "    \"banana\": 1.20,\n",
        "    \"pineapple\": 0.89,\n",
        "    \"apple\": 1.57,\n",
        "    \"grape\": 2.45,\n",
        "}\n",
        "\n",
        "# use the .keys() method\n",
        "min(prices)\n",
        "max(prices)\n",
        "\n",
        "min(prices.keys())\n",
        "max(prices.keys())\n",
        "\n",
        "# use the .values() method\n",
        "min(prices.values())\n",
        "max(prices.values())\n",
        "\n",
        "# use the .items() method\n",
        "min(prices.items())\n",
        "max(prices.items())"
      ],
      "metadata": {
        "colab": {
          "base_uri": "https://localhost:8080/"
        },
        "id": "NAofJAFS15Ho",
        "outputId": "33d23711-85ea-44fa-99ec-27e8ec3d7d30"
      },
      "execution_count": null,
      "outputs": [
        {
          "output_type": "execute_result",
          "data": {
            "text/plain": [
              "('pineapple', 0.89)"
            ]
          },
          "metadata": {},
          "execution_count": 9
        }
      ]
    },
    {
      "cell_type": "code",
      "source": [
        "class Stack:\n",
        "  def __init__(self):\n",
        "    self.stack = []\n",
        "\n",
        "  def add(self, dataval):\n",
        "# Use list append method to add element\n",
        "     if dataval not in self.stack:\n",
        "        self.stack.append(dataval)\n",
        "        return True\n",
        "     else:\n",
        "        return False\n",
        "# Use peek to look at the top of the stack\n",
        "  def peek(self):\n",
        "    return self.stack[-2]\n",
        "\n",
        "AStack = Stack()\n",
        "AStack.add(\"Mon\")\n",
        "AStack.add(\"Tue\")\n",
        "AStack.peek()\n",
        "print(AStack.peek())\n",
        "AStack.add(\"Wed\")\n",
        "AStack.add(\"Thu\")\n",
        "print(AStack.peek())"
      ],
      "metadata": {
        "colab": {
          "base_uri": "https://localhost:8080/"
        },
        "id": "-U16eJLy5JZY",
        "outputId": "f3306e1e-4cd1-4e56-ce1e-4cdd5481e2c6"
      },
      "execution_count": null,
      "outputs": [
        {
          "output_type": "stream",
          "name": "stdout",
          "text": [
            "Mon\n",
            "Wed\n"
          ]
        }
      ]
    },
    {
      "cell_type": "markdown",
      "source": [
        "# **OOP - 30/1/2024**"
      ],
      "metadata": {
        "id": "WAmxl1TXeOOb"
      }
    },
    {
      "cell_type": "code",
      "source": [
        "# create class\n",
        "class Car():\n",
        "  # variables\n",
        "  car_color = \"Red\"\n",
        "  car_brand = \"Toyota\"\n",
        "\n",
        "  # method 1\n",
        "  def carInfo(self):\n",
        "    print(\"Car Color is \",(self.car_color))\n",
        "    print(\"Car brand is \",(self.car_brand))\n",
        "\n",
        "  # method 2\n",
        "  def carPark(self):\n",
        "    print(\"Parking time is over.\")\n",
        "    return \"Return car park.!!!\"\n",
        "\n",
        "  # method 3\n",
        "  def carSpeed(self):\n",
        "    print(\"Car speed so to fast.\")\n",
        "    return \"Return car speed.!!!\"\n",
        "\n",
        "  # main method\n",
        "  def main(self):\n",
        "    print(\"This is main function of class.\")\n",
        "    # call functions\n",
        "    self.carInfo()\n",
        "    self.carPark()\n",
        "    self.carSpeed()\n",
        "\n",
        "if __name__ == '__main__':\n",
        "  # create object of class\n",
        "  obj_car = Car()\n",
        "  obj_car.main()\n",
        "  print(obj_car.car_color)\n",
        "  print(obj_car.car_brand)\n",
        "  print(obj_car.carPark())\n",
        "  print(obj_car.carSpeed())"
      ],
      "metadata": {
        "colab": {
          "base_uri": "https://localhost:8080/"
        },
        "id": "VZkwXgJFeXSL",
        "outputId": "0a767c60-8bc7-4854-fa39-265ae21cd764"
      },
      "execution_count": null,
      "outputs": [
        {
          "output_type": "stream",
          "name": "stdout",
          "text": [
            "This is main function of class.\n",
            "Car Color is  Red\n",
            "Car brand is  Toyota\n",
            "Parking time is over.\n",
            "Car speed so to fast.\n",
            "Red\n",
            "Toyota\n",
            "Parking time is over.\n",
            "Return car park.!!!\n",
            "Car speed so to fast.\n",
            "Return car speed.!!!\n"
          ]
        }
      ]
    },
    {
      "cell_type": "markdown",
      "source": [
        "# Lab Exercise **1**"
      ],
      "metadata": {
        "id": "-wlrpdnZmX3A"
      }
    },
    {
      "cell_type": "code",
      "source": [
        "# create class\n",
        "class Car():\n",
        "  # variables\n",
        "  car_color = \"Red\"\n",
        "  car_brand = \"Toyota\"\n",
        "  car_year = \"Tahun 2024\"\n",
        "\n",
        "  # method 1\n",
        "  def carInfo(self):\n",
        "    print(\"Car Color is \",(self.car_color))\n",
        "    print(\"Car brand is \",(self.car_brand))\n",
        "\n",
        "  # method 2\n",
        "  def carPark(self):\n",
        "    print(\"Parking time is over.\")\n",
        "    return \"Return car park.!!!\"\n",
        "\n",
        "  # method 3\n",
        "  def carSpeed(self):\n",
        "    print(\"Car speed so to fast.\")\n",
        "    return \"Return car speed.!!!\"\n",
        "\n",
        "  def carStatus(self):\n",
        "    return \"Unit Baru\"\n",
        "\n",
        "  # main method\n",
        "  #def main(self):\n",
        "   # print(\"This is main function of class.\")\n",
        "\n",
        "    # call functions\n",
        "   # self.carInfo()\n",
        "   # self.carPark()\n",
        "   # self.carSpeed()\n",
        "   # self.carStatus()\n",
        "\n",
        "class Motorbike():\n",
        "  motorbike_color = \"Blue\"\n",
        "  motorbike_brand = \"Yamaha\"\n",
        "  motorbike_year = \"Tahun 2024\"\n",
        "\n",
        "  # method 1\n",
        "  def MotorInfo(self):\n",
        "    return \"this is a brand new Yamaha\"\n",
        "\n",
        "  # method 2\n",
        "  def MotorSpeed(self):\n",
        "    return \"Maximum Speed 500km/hour\"\n",
        "\n",
        "  # method 3\n",
        "  def MotorPrice(self):\n",
        "    return \"Discount 50% if you buy it now\"\n",
        "\n",
        "\n",
        "if __name__ == '__main__':\n",
        "  # create object of class\n",
        "  obj_car = Car()\n",
        "  Motorbike1 = Motorbike()\n",
        "  Motorbike2 = Motorbike()\n",
        "  #obj_car.main()\n",
        "  print(obj_car.car_color)\n",
        "  print(obj_car.car_brand)\n",
        "  print(obj_car.car_year)\n",
        "  print(obj_car.carPark())\n",
        "  print(obj_car.carSpeed())\n",
        "  print(obj_car.carStatus())\n",
        "  print(Motorbike1.MotorInfo())\n",
        "  print(Motorbike1.MotorPrice())\n",
        "  print(Motorbike2.MotorSpeed())"
      ],
      "metadata": {
        "colab": {
          "base_uri": "https://localhost:8080/"
        },
        "id": "s7kWUg5rmU0l",
        "outputId": "b39f2eb9-af0c-4087-d188-60fc4bd812b9"
      },
      "execution_count": null,
      "outputs": [
        {
          "output_type": "stream",
          "name": "stdout",
          "text": [
            "Red\n",
            "Toyota\n",
            "Tahun 2024\n",
            "Parking time is over.\n",
            "Return car park.!!!\n",
            "Car speed so to fast.\n",
            "Return car speed.!!!\n",
            "Unit Baru\n",
            "this is a brand new Yamaha\n",
            "Discount 50% if you buy it now\n",
            "Maximum Speed 500km/hour\n"
          ]
        }
      ]
    },
    {
      "cell_type": "markdown",
      "source": [
        "# **OOP - 13/2/2024**"
      ],
      "metadata": {
        "id": "PCt8C6eMhi1B"
      }
    },
    {
      "cell_type": "code",
      "source": [
        "class Produk():\n",
        "  # variable\n",
        "  jumlah_produk = 0\n",
        "\n",
        "  # method constructor (default method)\n",
        "  def __init__(self, nama, harga):\n",
        "    self.nama = nama\n",
        "    self.harga = harga\n",
        "\n",
        "  # method 1\n",
        "  def view_jum_produk(self, jumlah):\n",
        "    Produk.jumlah_produk = jumlah\n",
        "    print('Total Produk:', Produk.jumlah_produk)\n",
        "\n",
        "  def detail_produk(self):\n",
        "    print('Nama:', self.nama)\n",
        "    print('Harga:', self.harga)\n",
        "\n",
        "# membuat objek pertama\n",
        "produk1 = Produk('Kerupuk', 5000)\n",
        "\n",
        "# membuat objek kedua\n",
        "produk2 = Produk('Taro', 3000)\n",
        "\n",
        "# membuat objek ketiga\n",
        "produk3 = Produk('Astor', 4000)\n",
        "\n",
        "# mengakses atribut objek\n",
        "produk1.detail_produk()\n",
        "produk1.view_jum_produk(5)\n",
        "print('Jumlah produk adalah', produk1.jumlah_produk)\n",
        "print('Nama produk adalah', produk1.nama)\n",
        "print()\n",
        "\n",
        "produk2.detail_produk()\n",
        "produk2.view_jum_produk(10)\n",
        "print('Jumlah produk adalah', produk2.jumlah_produk)\n",
        "print('Nama produk adalah', produk2.nama)\n",
        "print()\n",
        "\n",
        "produk3.detail_produk()\n",
        "produk3.view_jum_produk(15)\n",
        "print('Jumlah produk adalah', produk3.jumlah_produk)\n",
        "print('Nama produk adalah', produk3.nama)\n",
        "print()"
      ],
      "metadata": {
        "id": "TuGJoB-OhiT6",
        "colab": {
          "base_uri": "https://localhost:8080/"
        },
        "outputId": "359087df-16f7-43a4-c410-f9be8891a589"
      },
      "execution_count": null,
      "outputs": [
        {
          "output_type": "stream",
          "name": "stdout",
          "text": [
            "Nama: Kerupuk\n",
            "Harga: 5000\n",
            "Total Produk: 5\n",
            "Jumlah produk adalah 5\n",
            "Nama produk adalah Kerupuk\n",
            "\n",
            "Nama: Taro\n",
            "Harga: 3000\n",
            "Total Produk: 10\n",
            "Jumlah produk adalah 10\n",
            "Nama produk adalah Taro\n",
            "\n",
            "Nama: Astor\n",
            "Harga: 4000\n",
            "Total Produk: 15\n",
            "Jumlah produk adalah 15\n",
            "Nama produk adalah Astor\n",
            "\n"
          ]
        }
      ]
    },
    {
      "cell_type": "markdown",
      "source": [
        "# **OOP - 15/2/2024**"
      ],
      "metadata": {
        "id": "Jgg_jZojlerX"
      }
    },
    {
      "cell_type": "code",
      "source": [
        "class Person:\n",
        "  # class attribute/variable\n",
        "  attr1 = 'human'\n",
        "\n",
        "  # Instance attribute in method construtor (default method)\n",
        "  def __init__(self, name):\n",
        "    self.name = name\n",
        "\n",
        "  # method 1 (create a function)\n",
        "  def speak(self):\n",
        "    print('(Method) My name is', self.name)\n",
        "\n",
        "# Driver code\n",
        "# Object Instatitation\n",
        "Rodger = Person('Rodger')\n",
        "Tommy = Person('Tommy')\n",
        "\n",
        "# Accessing class attributes\n",
        "print('Rodger is a', Rodger.attr1)\n",
        "print('Tommy is also a', Tommy.attr1)\n",
        "\n",
        "# Accessing instance attributes\n",
        "print('(Variable) My name is', Rodger.name)\n",
        "print('(Variable) My name is', Tommy.name)\n",
        "\n",
        "# Accessing class methods\n",
        "Rodger.speak()\n",
        "Tommy.speak()"
      ],
      "metadata": {
        "colab": {
          "base_uri": "https://localhost:8080/"
        },
        "id": "010s8fOflnyc",
        "outputId": "5bd842ed-212a-4756-b6cc-ca6c1207c31c"
      },
      "execution_count": null,
      "outputs": [
        {
          "output_type": "stream",
          "name": "stdout",
          "text": [
            "Rodger is a human\n",
            "Tommy is also a human\n",
            "(Variable) My name is Rodger\n",
            "(Variable) My name is Tommy\n",
            "(Method) My name is Rodger\n",
            "(Method) My name is Tommy\n"
          ]
        }
      ]
    },
    {
      "cell_type": "markdown",
      "source": [
        "# **OOP - 20/2/2024**"
      ],
      "metadata": {
        "id": "ZFqQyWz4m8YE"
      }
    },
    {
      "cell_type": "code",
      "source": [
        "class Produk():\n",
        "\n",
        "  jumlah_produk = 0\n",
        "\n",
        "  def __init__(self, nama, harga):\n",
        "    self.nama = nama\n",
        "    self.harga = harga\n",
        "\n",
        "  def view_jum_produk(self, jumlah):\n",
        "    Produk.jumlah_produk = jumlah\n",
        "    print('Total Produk:', Produk.jumlah_produk)\n",
        "\n",
        "  def detail_produk(self):\n",
        "    print('Nama:', self.nama)\n",
        "    print('Harga:', self.harga)\n",
        "\n",
        "  def update_harga(self, harga_update):\n",
        "    self.harga = harga_update\n",
        "\n",
        "produk1 = Produk('Kerupuk', 5000)\n",
        "\n",
        "produk2 = Produk('Taro', 3000)\n",
        "\n",
        "produk3 = Produk('Astor', 4000)\n",
        "\n",
        "produk4 = Produk('Pisang Goreng', 1000)\n",
        "\n",
        "produk5 = Produk('Milu Goreng', 1000)\n",
        "\n",
        "produk6 = Produk('Aqua', 5000)\n",
        "\n",
        "\n",
        "produk1.detail_produk()\n",
        "produk1.view_jum_produk(5)\n",
        "print('Jumlah produk adalah', produk1.jumlah_produk)\n",
        "print('Nama produk adalah', produk1.nama)\n",
        "print()\n",
        "\n",
        "produk2.detail_produk()\n",
        "produk2.view_jum_produk(10)\n",
        "print('Jumlah produk adalah', produk2.jumlah_produk)\n",
        "print('Nama produk adalah', produk2.nama)\n",
        "print()\n",
        "\n",
        "produk3.detail_produk()\n",
        "produk3.view_jum_produk(15)\n",
        "print('Jumlah produk adalah', produk3.jumlah_produk)\n",
        "print('Nama produk adalah', produk3.nama)\n",
        "print()\n",
        "\n",
        "produk4.detail_produk()\n",
        "produk4.view_jum_produk(30)\n",
        "print('Jumlah produk adalah', produk4.jumlah_produk)\n",
        "print('Nama produk adalah', produk4.nama)\n",
        "print()\n",
        "\n",
        "produk4.update_harga(6000)\n",
        "produk4.detail_produk()\n",
        "produk4.view_jum_produk(30)\n",
        "print('Jumlah produk adalah', produk4.jumlah_produk)\n",
        "print('Nama produk adalah', produk4.nama)\n",
        "print()"
      ],
      "metadata": {
        "colab": {
          "base_uri": "https://localhost:8080/"
        },
        "id": "wLre0ZpEo5T0",
        "outputId": "fbb40073-ff5d-40e8-90ee-f1d9158bf5c3"
      },
      "execution_count": null,
      "outputs": [
        {
          "output_type": "stream",
          "name": "stdout",
          "text": [
            "Nama: Kerupuk\n",
            "Harga: 5000\n",
            "Total Produk: 5\n",
            "Jumlah produk adalah 5\n",
            "Nama produk adalah Kerupuk\n",
            "\n",
            "Nama: Taro\n",
            "Harga: 3000\n",
            "Total Produk: 10\n",
            "Jumlah produk adalah 10\n",
            "Nama produk adalah Taro\n",
            "\n",
            "Nama: Astor\n",
            "Harga: 4000\n",
            "Total Produk: 15\n",
            "Jumlah produk adalah 15\n",
            "Nama produk adalah Astor\n",
            "\n",
            "Nama: Pisang Goreng\n",
            "Harga: 1000\n",
            "Total Produk: 30\n",
            "Jumlah produk adalah 30\n",
            "Nama produk adalah Pisang Goreng\n",
            "\n",
            "Nama: Pisang Goreng\n",
            "Harga: 6000\n",
            "Total Produk: 30\n",
            "Jumlah produk adalah 30\n",
            "Nama produk adalah Pisang Goreng\n",
            "\n"
          ]
        }
      ]
    },
    {
      "cell_type": "code",
      "source": [
        "class Karyawan:\n",
        "\n",
        "  def __init__(self,nama,usia,gaji):\n",
        "    self.nama = nama\n",
        "    self.usia = usia\n",
        "    self.gaji = gaji\n",
        "\n",
        "  def tampilkan_info(self):\n",
        "    print(f'Nama: {self.nama}')\n",
        "    print(f'Usia: {self.usia} Tahun')\n",
        "    print(f'Gaji: {self.gaji}')\n",
        "    print()\n",
        "\n",
        "kar_1 = Karyawan('Andi', 30, 'Rp. 100.000.000')\n",
        "kar_2 = Karyawan('Budi', 35, 'Rp. 12.000.000')\n",
        "kar_3 = Karyawan('Cindy', 25, 'Rp. 8.000.000')\n",
        "\n",
        "kar_1.tampilkan_info()\n",
        "\n",
        "kar_2.tampilkan_info()\n",
        "\n",
        "kar_3.tampilkan_info()"
      ],
      "metadata": {
        "colab": {
          "base_uri": "https://localhost:8080/"
        },
        "id": "YSbzyQZMnI40",
        "outputId": "ada9c1fd-bcb6-400b-8794-93b5c81debf8"
      },
      "execution_count": null,
      "outputs": [
        {
          "output_type": "stream",
          "name": "stdout",
          "text": [
            "Nama: Andi\n",
            "Usia: 30 Tahun\n",
            "Gaji: Rp. 100.000.000\n",
            "\n",
            "Nama: Budi\n",
            "Usia: 35 Tahun\n",
            "Gaji: Rp. 12.000.000\n",
            "\n",
            "Nama: Cindy\n",
            "Usia: 25 Tahun\n",
            "Gaji: Rp. 8.000.000\n",
            "\n"
          ]
        }
      ]
    },
    {
      "cell_type": "markdown",
      "source": [
        "# **OOP - 25/2/2024**"
      ],
      "metadata": {
        "id": "U-f9yx5KnZvC"
      }
    },
    {
      "cell_type": "markdown",
      "source": [
        "Constructor & Destructor"
      ],
      "metadata": {
        "id": "Q7XpzS3Sq0OH"
      }
    },
    {
      "cell_type": "code",
      "source": [
        "# Creat Class\n",
        "class Student:\n",
        "\n",
        "  # Cunstructor (initialize instance variable)\n",
        "  def __init__(self,name):\n",
        "    print('Inside Cunstructor')\n",
        "    self.name = name\n",
        "    print('All variable initialized')\n",
        "\n",
        "  # Desctructor\n",
        "  def __del__(self):\n",
        "    print('Inside destructor')\n",
        "    print('Object destroyed')\n",
        "\n",
        "  # Instance Method\n",
        "  def show(self):\n",
        "    print('Hello, my name is ',self.name)\n",
        "\n",
        "# Create object using constructor\n",
        "s1 = Student('jenna Rink')\n",
        "s2 = Student('Matthew Casadeva')\n",
        "s3 = Student('Patricia')\n",
        "\n",
        "# Call method\n",
        "\n",
        "s1.show()\n",
        "\n",
        "del s1"
      ],
      "metadata": {
        "colab": {
          "base_uri": "https://localhost:8080/"
        },
        "id": "LDAmSdlLnlTX",
        "outputId": "21e6a3da-541c-4aa3-b58f-a46d4fbe6ae9"
      },
      "execution_count": null,
      "outputs": [
        {
          "output_type": "stream",
          "name": "stdout",
          "text": [
            "Inside Cunstructor\n",
            "All variable initialized\n",
            "Inside Cunstructor\n",
            "All variable initialized\n",
            "Inside Cunstructor\n",
            "All variable initialized\n",
            "Hello, my name is  jenna Rink\n",
            "Inside destructor\n",
            "Object destroyed\n"
          ]
        }
      ]
    },
    {
      "cell_type": "markdown",
      "source": [
        "Abstractions"
      ],
      "metadata": {
        "id": "NT57QKEUq61u"
      }
    },
    {
      "cell_type": "code",
      "source": [
        "# Import module\n",
        "from abc import ABC, abstractmethod\n",
        "\n",
        "# Abstract Class\n",
        "class Absclass(ABC):\n",
        "    # Normal method\n",
        "    def print(self, x):\n",
        "        print('Passes value:', x)\n",
        "\n",
        "    # Abstract method\n",
        "    @abstractmethod\n",
        "    def task(self):\n",
        "        print('Ada di dalam struktur Absclass.')\n",
        "\n",
        "# normal class\n",
        "class test_class(Absclass):\n",
        "    def task(self):\n",
        "        print('Ada di dalam struktur test_class.')\n",
        "\n",
        "# normal class\n",
        "class example_class(Absclass):\n",
        "    def task(self):\n",
        "        print('Ada di dalam struktur example_class.')\n",
        "\n",
        "# object of test_class created\n",
        "test_obj = test_class()\n",
        "test_obj.task()               # abstract method\n",
        "test_obj.print(100)           # normal method\n",
        "\n",
        "# object of example_class created\n",
        "example_obj = example_class()\n",
        "example_obj.task()            # abstract method\n",
        "example_obj.print(100)        # normal method\n",
        "\n",
        "print('test_obj is instance of Absclass?', isinstance(test_obj, Absclass))\n",
        "print('example_obj is instance of Absclass?', isinstance(example_obj, Absclass))\n"
      ],
      "metadata": {
        "colab": {
          "base_uri": "https://localhost:8080/"
        },
        "id": "WrehiYISpAIY",
        "outputId": "7176b574-8cd2-4c10-832c-a883005c49c6"
      },
      "execution_count": null,
      "outputs": [
        {
          "output_type": "stream",
          "name": "stdout",
          "text": [
            "Ada di dalam struktur test_class.\n",
            "Passes value: 100\n",
            "Ada di dalam struktur example_class.\n",
            "Passes value: 100\n",
            "test_obj is instance of Absclass? True\n",
            "example_obj is instance of Absclass? True\n"
          ]
        }
      ]
    },
    {
      "cell_type": "markdown",
      "source": [
        "Abstractions"
      ],
      "metadata": {
        "id": "GpD2bIVaq-FG"
      }
    },
    {
      "cell_type": "code",
      "source": [
        "from abc import ABC\n",
        "\n",
        "class type_shape(ABC):\n",
        "  pass\n",
        "\n",
        "class Rectangle(type_shape):\n",
        "  lenght = 6\n",
        "  breadth = 4\n",
        "  def area(self):\n",
        "    return self.lenght * self.lenght\n",
        "\n",
        "class Circle(type_shape):\n",
        "  radius = 7\n",
        "  def area(self):\n",
        "    return 3.14 * self.radius * self.radius\n",
        "\n",
        "class Square(type_shape):\n",
        "  lenght = 4\n",
        "  def area(self):\n",
        "    return self.lenght * self.lenght\n",
        "\n",
        "class Triangle:\n",
        "  lenght = 5\n",
        "  width = 4\n",
        "  def area(self):\n",
        "    return 0.5 * self.lenght * self.width\n",
        "\n",
        "r = Rectangle()\n",
        "c = Circle()\n",
        "s = Square()\n",
        "t = Triangle()\n",
        "\n",
        "print('Area of rectangle:', r.area())\n",
        "print('Area of circle:', c.area())\n",
        "print('Area of square:', s.area())\n",
        "print('Area of triangle:', t.area())"
      ],
      "metadata": {
        "id": "FSud6VmepD-o"
      },
      "execution_count": null,
      "outputs": []
    },
    {
      "cell_type": "markdown",
      "source": [
        "# **OOP - 27/2/2024**"
      ],
      "metadata": {
        "id": "obQbkjfjs2kW"
      }
    },
    {
      "cell_type": "markdown",
      "source": [
        "Polymorphism"
      ],
      "metadata": {
        "id": "_mRAt_aGtlqC"
      }
    },
    {
      "cell_type": "code",
      "source": [
        "# create parent class\n",
        "class Bird:\n",
        "  # variable\n",
        "  color = \"red\"\n",
        "\n",
        "  def intro(self):\n",
        "    print(\"There are several different types of bird species.\")\n",
        "\n",
        "  def fly(self):\n",
        "    print(\"Almost all birds can fly, but there are some that cannot.\")\n",
        "\n",
        "# create child class 1\n",
        "class Eagle(Bird):\n",
        "  # variable\n",
        "  color = \"blue\"\n",
        "\n",
        "  def fly(self):\n",
        "    print(\"Yes, an eagle can fly.\")\n",
        "\n",
        "# create child class 2\n",
        "class Weka(Bird):\n",
        "  # variable\n",
        "  color = \"green\"\n",
        "\n",
        "  def fly(self):\n",
        "    print(\"No, an Weka can't fly.\")\n",
        "\n",
        "# object of parent class & child class created\n",
        "obj_burung = Bird()\n",
        "obj_elang = Eagle()\n",
        "obj_weka = Weka()\n",
        "\n",
        "# user-defined function is called from obj_burung (parent class)\n",
        "obj_burung.intro()\n",
        "obj_burung.fly()\n",
        "print(\"Warna burung: {0}\".format(obj_burung.color))\n",
        "print()\n",
        "# user-defined function is called from obj_elang (child class)\n",
        "obj_elang.intro()\n",
        "obj_elang.fly()\n",
        "print(\"Warna burung: {0}\".format(obj_elang.color))\n",
        "print()\n",
        "# user-defined function is called from obj_weka (child class)\n",
        "obj_weka.intro()\n",
        "obj_weka.fly()\n",
        "print(\"Warna burung: {0}\".format(obj_weka.color))"
      ],
      "metadata": {
        "colab": {
          "base_uri": "https://localhost:8080/"
        },
        "id": "jMC7XG89s9NJ",
        "outputId": "c295d88c-460e-43ab-b54b-699db0283f1a"
      },
      "execution_count": null,
      "outputs": [
        {
          "output_type": "stream",
          "name": "stdout",
          "text": [
            "There are several different types of bird species.\n",
            "Almost all birds can fly, but there are some that cannot.\n",
            "Warna burung: red\n",
            "\n",
            "There are several different types of bird species.\n",
            "Yes, an eagle can fly.\n",
            "Warna burung: blue\n",
            "\n",
            "There are several different types of bird species.\n",
            "No, an Weka can't fly.\n",
            "Warna burung: green\n"
          ]
        }
      ]
    },
    {
      "cell_type": "markdown",
      "source": [
        " **Tugas Polymorphism**"
      ],
      "metadata": {
        "id": "yaOT4Sg0wVcc"
      }
    },
    {
      "cell_type": "code",
      "source": [
        "class Vehicle():\n",
        "\n",
        "  def speed(self):\n",
        "    print(\"Max speed 150\")\n",
        "\n",
        "  def changeGear(self):\n",
        "    print(\"5 Gear\")\n",
        "\n",
        "  def show(self):\n",
        "    self.speed()\n",
        "    self.changeGear()\n",
        "\n",
        "class Car(Vehicle):\n",
        "  def speed(self):\n",
        "    print(\"Max Speed 240\")\n",
        "\n",
        "  def changeGear(self):\n",
        "    print(\"6 Gear\")\n",
        "\n",
        "class Truck(Vehicle):\n",
        "  def speed(self):\n",
        "    print(\"Max Speed 200\")\n",
        "\n",
        "  def changeGear(self):\n",
        "    print(\"8 Gear\")\n",
        "\n",
        "obj_vehicle = Vehicle()\n",
        "obj_car = Car()\n",
        "obj_truck = Truck()\n",
        "\n",
        "obj_vehicle.show()\n",
        "print()\n",
        "\n",
        "obj_car.show()\n",
        "print()\n",
        "\n",
        "obj_truck.show()"
      ],
      "metadata": {
        "id": "U-qKKLLDwU28"
      },
      "execution_count": null,
      "outputs": []
    },
    {
      "cell_type": "markdown",
      "source": [
        "# **OOP - 14/3/2024**"
      ],
      "metadata": {
        "id": "8J3_II9c2mbV"
      }
    },
    {
      "cell_type": "markdown",
      "source": [
        "Private Modifier"
      ],
      "metadata": {
        "id": "9yCyM0sE20-U"
      }
    },
    {
      "cell_type": "code",
      "source": [
        "# Private Modifier\n",
        "\n",
        "# Create class\n",
        "class Employee:\n",
        "\n",
        "    # parameterized constructor\n",
        "    def __init__(self, name, salary):\n",
        "\n",
        "        # public data members\n",
        "        self.name = name        # public variable\n",
        "\n",
        "        # private members\n",
        "        self.__salary = salary    # private variable\n",
        "\n",
        "    # public instance methods\n",
        "    def display(self):\n",
        "        # accessing public data member\n",
        "        print(\"Name:\", self.name, 'Salary:', self.__salary)\n",
        "\n",
        "    # Getter method to retrieve the value of __salary\n",
        "    def get_salary(self):\n",
        "        return self.__salary\n",
        "\n",
        "    # Setter method to modify the value of __salary\n",
        "    def set_salary(self, new_salary):\n",
        "        self.__salary = new_salary\n",
        "\n",
        "# creating object of a class\n",
        "unklab_emp = Employee('Your Name', 2000000)\n",
        "yzu_emp = Employee('Your Name', 3000000)\n",
        "ntu_emp = Employee('Your Name', 4000000)\n",
        "ccu_emp = Employee('Your Name', 5000000)\n",
        "\n",
        "# calling public method of the class\n",
        "unklab_emp.display()\n",
        "yzu_emp.display()\n",
        "ntu_emp.display()\n",
        "ccu_emp.display()\n",
        "\n",
        "# accessing public data members\n",
        "print(\"Name:\", unklab_emp.name, 'Salary:', unklab_emp.get_salary())\n",
        "print(\"Name:\", yzu_emp.name, 'Salary:', yzu_emp.get_salary())\n",
        "print(\"Name:\", ntu_emp.name, 'Salary:', ntu_emp.get_salary())\n",
        "print(\"Name:\", ccu_emp.name, 'Salary:', ccu_emp.get_salary())"
      ],
      "metadata": {
        "colab": {
          "base_uri": "https://localhost:8080/"
        },
        "id": "k9D9SJpG2st8",
        "outputId": "dc88917a-ab2f-42cb-bb71-7a27ae9efdf5"
      },
      "execution_count": null,
      "outputs": [
        {
          "output_type": "stream",
          "name": "stdout",
          "text": [
            "Name: Your Name Salary: 2000000\n",
            "Name: Your Name Salary: 3000000\n",
            "Name: Your Name Salary: 4000000\n",
            "Name: Your Name Salary: 5000000\n",
            "Name: Your Name Salary: 2000000\n",
            "Name: Your Name Salary: 3000000\n",
            "Name: Your Name Salary: 4000000\n",
            "Name: Your Name Salary: 5000000\n"
          ]
        }
      ]
    },
    {
      "cell_type": "markdown",
      "source": [
        "Public Modifier"
      ],
      "metadata": {
        "id": "Rdm3m2fx21-M"
      }
    },
    {
      "cell_type": "code",
      "source": [
        "# Public Modifier\n",
        "\n",
        "# Create class\n",
        "class Employee:\n",
        "\n",
        "    # parameterized constructor\n",
        "    def __init__(self, name, salary):\n",
        "\n",
        "        # public data members\n",
        "        self.name = name        # public variable\n",
        "        self.salary = salary    # public variable\n",
        "\n",
        "    # public instance methods\n",
        "    def display(self):\n",
        "        # accessing public data member\n",
        "        print(\"Name:\", self.name, 'Salary:', self.salary)\n",
        "\n",
        "# creating object of a class\n",
        "unklab_emp = Employee('Your Name', 2000000)\n",
        "yzu_emp = Employee('Your Name', 3000000)\n",
        "ntu_emp = Employee('Your Name', 4000000)\n",
        "ccu_emp = Employee('Your Name', 5000000)\n",
        "\n",
        "# accessing public data members\n",
        "print(\"Name:\", unklab_emp.name, 'Salary:', unklab_emp.salary)\n",
        "print(\"Name:\", yzu_emp.name, 'Salary:', yzu_emp.salary)\n",
        "print(\"Name:\", ntu_emp.name, 'Salary:', ntu_emp.salary)\n",
        "print(\"Name:\", ccu_emp.name, 'Salary:', ccu_emp.salary)\n",
        "\n",
        "# calling public method of the class\n",
        "unklab_emp.display()\n",
        "yzu_emp.display()\n",
        "ntu_emp.display()\n",
        "ccu_emp.display()"
      ],
      "metadata": {
        "colab": {
          "base_uri": "https://localhost:8080/"
        },
        "id": "G12DyVvl24uu",
        "outputId": "2818c8fa-853b-40e9-e08a-7bc9cd6c5bb4"
      },
      "execution_count": null,
      "outputs": [
        {
          "output_type": "stream",
          "name": "stdout",
          "text": [
            "Name: Your Name Salary: 2000000\n",
            "Name: Your Name Salary: 3000000\n",
            "Name: Your Name Salary: 4000000\n",
            "Name: Your Name Salary: 5000000\n",
            "Name: Your Name Salary: 2000000\n",
            "Name: Your Name Salary: 3000000\n",
            "Name: Your Name Salary: 4000000\n",
            "Name: Your Name Salary: 5000000\n"
          ]
        }
      ]
    },
    {
      "cell_type": "markdown",
      "source": [
        "# **OOP - 21/3/2024**"
      ],
      "metadata": {
        "id": "wBlSzSRM5ImD"
      }
    },
    {
      "cell_type": "markdown",
      "source": [
        "Multiple Inheritance"
      ],
      "metadata": {
        "id": "uPdAhZCX5OjD"
      }
    },
    {
      "cell_type": "code",
      "source": [
        "# parent class 1\n",
        "class ParentSkillOne:\n",
        "  # method 1\n",
        "  def berlari(self):\n",
        "    print(\"Skill parent pertama adalah berlari.\")\n",
        "\n",
        "  # method 2\n",
        "  def pidato(self):\n",
        "    print(\"Skill parent pertama adalah berpidato.\")\n",
        "\n",
        "# parent class 2\n",
        "class ParentSkillTwo:\n",
        "  # method 1\n",
        "  def membaca(self):\n",
        "    print(\"Skill parent kedua adalah membaca buku.\")\n",
        "\n",
        "  # method 2\n",
        "  def programmer(self):\n",
        "    print(\"Skill parent kedua adalah membuat program computer.\")\n",
        "\n",
        "# child class\n",
        "class Saya(ParentSkillOne, ParentSkillTwo):\n",
        "  # method 1\n",
        "  def berenang(self):\n",
        "    print(\"Skill saya adalah berenang.\")\n",
        "\n",
        "# create object dari class Saya\n",
        "obj_me = Saya()\n",
        "\n",
        "# call skills\n",
        "obj_me.berenang()\n",
        "obj_me.berlari()\n",
        "obj_me.pidato()\n",
        "obj_me.membaca()\n",
        "obj_me.programmer()"
      ],
      "metadata": {
        "colab": {
          "base_uri": "https://localhost:8080/"
        },
        "id": "gmj4q1IX5IG8",
        "outputId": "ddb06ae5-29da-4677-d86d-0e3c0b251614"
      },
      "execution_count": null,
      "outputs": [
        {
          "output_type": "stream",
          "name": "stdout",
          "text": [
            "Skill saya adalah berenang.\n",
            "Skill parent pertama adalah berlari.\n",
            "Skill parent pertama adalah berpidato.\n",
            "Skill parent kedua adalah membaca buku.\n",
            "Skill parent kedua adalah membuat program computer.\n"
          ]
        }
      ]
    },
    {
      "cell_type": "markdown",
      "source": [
        "Mulitilevel Inheritanca"
      ],
      "metadata": {
        "id": "c_8fL3on77Oa"
      }
    },
    {
      "cell_type": "code",
      "source": [
        "# parent class (level 1)\n",
        "class GrandFather:\n",
        "  # public variables\n",
        "  nama = \"Robert\"\n",
        "  __max_umur = \"60\"\n",
        "\n",
        "  # parameterized constructor\n",
        "  def __init__(self, input_nama, input_umur):\n",
        "    # public data members\n",
        "    self.nama = input_nama        # public variable\n",
        "    self.__max_umur = input_umur  # private variable\n",
        "    self.__info()\n",
        "\n",
        "  # method 1\n",
        "  def menulis(self):\n",
        "    print(\"Skill Grandfather adalah menulis.\")\n",
        "\n",
        "  # method 2\n",
        "  def __info(self):\n",
        "    print(f\"Grand Father: {self.nama} dan umur: {self.__max_umur}.\")\n",
        "\n",
        "# parent class (level 2)\n",
        "class Father(GrandFather):\n",
        "  # method 1\n",
        "  def membaca(self):\n",
        "    print(\"Skill Father adalah membaca buku.\")\n",
        "\n",
        "  # method 2\n",
        "  def menulis(self):\n",
        "    print(\"Skill Father adalah menulis jurnal international.\")\n",
        "\n",
        "  # method 3\n",
        "  def programmer(self):\n",
        "    print(\"Skill Father adalah membuat program computer.\")\n",
        "\n",
        "\n",
        "# child class 1\n",
        "class Lukas(Father):\n",
        "  # method 1\n",
        "  def berenang(self):\n",
        "    print(\"Skill Lukas adalah berenang.\")\n",
        "\n",
        "  # method 2\n",
        "  def programmer(self):\n",
        "    print(\"Skill Lukas adalah programmer Java.\")\n",
        "\n",
        "# child class 2\n",
        "class Andi(Father):\n",
        "  # method 1\n",
        "  def pidato(self):\n",
        "    print(\"Skill Andi adalah pidato.\")\n",
        "\n",
        "  # method 2\n",
        "  def menulis(self):\n",
        "    print(\"Skill Andi adalah menulis buku.\")\n",
        "\n",
        "# create object #1\n",
        "obj_Luk = Lukas(\"Hendra Bayu\", \"58\")\n",
        "# obj_Luk.info() # can't access private method\n",
        "obj_Luk.menulis()\n",
        "obj_Luk.membaca()\n",
        "obj_Luk.berenang()\n",
        "obj_Luk.programmer()\n",
        "\n",
        "print();\n",
        "\n",
        "# create object #2\n",
        "obj_And = Andi(\"John Tambayun\", \"89\")\n",
        "# obj_And.info() # can't access private method\n",
        "obj_And.membaca()\n",
        "obj_And.programmer()\n",
        "obj_And.pidato()\n",
        "obj_And.menulis()"
      ],
      "metadata": {
        "colab": {
          "base_uri": "https://localhost:8080/"
        },
        "id": "vylp-pxn77Ai",
        "outputId": "ca6e3d86-8850-4524-ea14-8961ff7e9a72"
      },
      "execution_count": null,
      "outputs": [
        {
          "output_type": "stream",
          "name": "stdout",
          "text": [
            "Grand Father: Hendra Bayu dan umur: 58.\n",
            "Skill Father adalah menulis jurnal international.\n",
            "Skill Father adalah membaca buku.\n",
            "Skill Lukas adalah berenang.\n",
            "Skill Lukas adalah programmer Java.\n",
            "\n",
            "Grand Father: John Tambayun dan umur: 89.\n",
            "Skill Father adalah membaca buku.\n",
            "Skill Father adalah membuat program computer.\n",
            "Skill Andi adalah pidato.\n",
            "Skill Andi adalah menulis buku.\n"
          ]
        }
      ]
    },
    {
      "cell_type": "markdown",
      "source": [
        "# **OOP - 26/3/2024**"
      ],
      "metadata": {
        "id": "VGvwZJC4IRUS"
      }
    },
    {
      "cell_type": "code",
      "source": [
        "class Animal:\n",
        "  def __init__(self, name, age, color):\n",
        "    self.__type = \"Burung\"\n",
        "    self.name = name\n",
        "    self.age = age\n",
        "    self.color = color\n",
        "\n",
        "  def __eat(self, type_food, time):\n",
        "    print(f\"Food Type: {type_food}, Time: {time}\")\n",
        "\n",
        "  def __run(self, duration):\n",
        "    print(f\"Run Duration: {duration}\")\n",
        "\n",
        "  def fly(self, high):\n",
        "    print(f\"Fly High: {high}\")\n",
        "\n",
        "  def sleep(self, time):\n",
        "    print(f\"Sleep Time: {time}\")\n",
        "\n",
        "  def sound(self):\n",
        "    print(\"Sound: Kiwkiwkiw\")\n",
        "\n",
        "  def show(self):\n",
        "    print(f\"Type: {self.__type}\")\n",
        "    print(f\"Name: {self.name}\")\n",
        "    print(f\"Age: {self.age}\")\n",
        "    print(f\"Color: {self.color}\")\n",
        "\n",
        "  def main(self):\n",
        "    self.__eat(\"Seed\", 10)\n",
        "    self.__run(\"1 Hour\")\n",
        "\n",
        "class Cat(Animal):\n",
        "  def __init__(self, name, age):\n",
        "    self.__name = name\n",
        "    self.age = age\n",
        "\n",
        "  def fly(self):\n",
        "    print(\"Cat can't fly.\")\n",
        "\n",
        "  def sound(self):\n",
        "    print(\"Sound: MeauwMeauwMeauw\")\n",
        "\n",
        "  def run(self, duration):\n",
        "    print(f\"Run Duration: {duration}\")\n",
        "\n",
        "  def __play(self):\n",
        "    print(\"Cat likes to run.\")\n",
        "\n",
        "  def show(self):\n",
        "    print(f\"Name: {self.__name}\")\n",
        "    print(f\"Age: {self.age}\")\n",
        "\n",
        "  def main(self):\n",
        "    self.show()\n",
        "    self.__play()\n",
        "\n",
        "class Dog(Animal):\n",
        "  def __init__(self, name, age):\n",
        "    self.__name = name\n",
        "    self.age = age\n",
        "\n",
        "  def fly(self):\n",
        "    print(\"Dog can't fly.\")\n",
        "\n",
        "  def sound(self):\n",
        "    print(\"Sound: GuogGuogGuog\")\n",
        "\n",
        "  def run(self, duration):\n",
        "    print(f\"Run Duration: {duration}\")\n",
        "\n",
        "  def __play(self):\n",
        "    print(\"Dog likes to run.\")\n",
        "\n",
        "  def show(self):\n",
        "    print(f\"Name: {self.__name}\")\n",
        "    print(f\"Age: {self.age}\")\n",
        "\n",
        "  def main(self):\n",
        "    self.show()\n",
        "    self.__play()\n",
        "\n",
        "class Bird(Animal):\n",
        "  def __init__(self, name, age):\n",
        "    self.__name = name\n",
        "    self.age = age\n",
        "\n",
        "  def fly(self):\n",
        "    print(\"Bird can fly.\")\n",
        "\n",
        "  def sound(self):\n",
        "    print(\"Sound: KiewKiewKiew\")\n",
        "\n",
        "  def run(self, duration):\n",
        "    print(f\"Run Duration: {duration}\")\n",
        "\n",
        "  def __play(self):\n",
        "    print(\"Bird doesn't like to run.\")\n",
        "\n",
        "  def show(self):\n",
        "    print(f\"Name: {self.__name}\")\n",
        "    print(f\"Age: {self.age}\")\n",
        "\n",
        "  def main(self):\n",
        "    self.show()\n",
        "    self.__play()\n",
        "\n",
        "obj_animal = Animal(\"Boddy\", 18, \"Red\")\n",
        "obj_cat = Cat(\"Kitty\", 2)\n",
        "obj_dog = Dog(\"Doggy\", 3)\n",
        "obj_bird = Bird(\"Birdy\", 5)\n",
        "\n",
        "obj_animal.show()\n",
        "obj_animal.main()\n",
        "obj_animal.fly(\"80 Ft\")\n",
        "obj_animal.sleep(\"8 Pm\")\n",
        "obj_animal.sound()\n",
        "print()\n",
        "\n",
        "obj_cat.main()\n",
        "obj_cat.fly()\n",
        "obj_cat.sound()\n",
        "obj_cat.run(\"40 Min\")\n",
        "print()\n",
        "\n",
        "obj_dog.main()\n",
        "obj_dog.fly()\n",
        "obj_dog.sound()\n",
        "obj_dog.run(\"1 Hour\")\n",
        "print()\n",
        "\n",
        "obj_bird.main()\n",
        "obj_bird.fly()\n",
        "obj_bird.sound()\n",
        "obj_bird.run(\"50 Min\")"
      ],
      "metadata": {
        "id": "WKhLA6z9IdUW",
        "colab": {
          "base_uri": "https://localhost:8080/"
        },
        "outputId": "d446cf32-2331-4a0c-eaa1-7986bc8b4f29"
      },
      "execution_count": null,
      "outputs": [
        {
          "output_type": "stream",
          "name": "stdout",
          "text": [
            "Type: Burung\n",
            "Name: Boddy\n",
            "Age: 18\n",
            "Color: Red\n",
            "Food Type: Seed, Time: 10\n",
            "Run Duration: 1 Hour\n",
            "Fly High: 80 Ft\n",
            "Sleep Time: 8 Pm\n",
            "Sound: Kiwkiwkiw\n",
            "\n",
            "Name: Kitty\n",
            "Age: 2\n",
            "Cat likes to run.\n",
            "Cat can't fly.\n",
            "Sound: MeauwMeauwMeauw\n",
            "Run Duration: 40 Min\n",
            "\n",
            "Name: Doggy\n",
            "Age: 3\n",
            "Dog likes to run.\n",
            "Dog can't fly.\n",
            "Sound: GuogGuogGuog\n",
            "Run Duration: 1 Hour\n",
            "\n",
            "Name: Birdy\n",
            "Age: 5\n",
            "Bird doesn't like to run.\n",
            "Bird can fly.\n",
            "Sound: KiewKiewKiew\n",
            "Run Duration: 50 Min\n"
          ]
        }
      ]
    },
    {
      "cell_type": "markdown",
      "source": [
        "# **OOP - 28/3/2024**"
      ],
      "metadata": {
        "id": "151N9lXqIxLJ"
      }
    },
    {
      "cell_type": "markdown",
      "source": [
        "## **Single Overriding**"
      ],
      "metadata": {
        "id": "xpDXoR6oLIUh"
      }
    },
    {
      "cell_type": "code",
      "source": [
        "# Single Inheritance\n",
        "\n",
        "class Shape:\n",
        "    def __init__(self, color, x, y):\n",
        "        self.color = color\n",
        "        self.x = x\n",
        "        self.y = y\n",
        "\n",
        "    def area(self):\n",
        "        print(\"Undefined area\")\n",
        "\n",
        "    def perimeter(self):\n",
        "        print(\"Undefined perimeter\")\n",
        "\n",
        "    def move(self, x, y):\n",
        "        self.x += x\n",
        "        self.y += y\n",
        "\n",
        "    def set_color(self, color):\n",
        "        self.color = color\n",
        "\n",
        "    def get_color(self):\n",
        "        return self.color\n",
        "\n",
        "class Rectangle(Shape):\n",
        "    def __init__(self, color, x, y, width, height):\n",
        "        super().__init__(color, x, y)\n",
        "        self.width = width\n",
        "        self.height = height\n",
        "\n",
        "    def area(self):\n",
        "        return self.width * self.height\n",
        "\n",
        "    def perimeter(self):\n",
        "        return 2 * (self.width + self.height)\n",
        "\n",
        "class Circle(Shape):\n",
        "    def __init__(self, color, x, y, radius):\n",
        "        super().__init__(color, x, y)\n",
        "        self.radius = radius\n",
        "\n",
        "    def area(self):\n",
        "        return 3.14 * self.radius * self.radius\n",
        "\n",
        "    def perimeter(self):\n",
        "        return 2 * 3.14 * self.radius\n",
        "\n",
        "if __name__ == '__main__':\n",
        "    rectangle = Rectangle('blue', 0, 0, 5, 3)\n",
        "    circle = Circle('red', 0, 0, 5)\n",
        "\n",
        "    print(\"Rectangle area:\", rectangle.area())\n",
        "    print(\"Rectangle perimeter:\", rectangle.perimeter())\n",
        "\n",
        "    print(\"Circle area:\", circle.area())\n",
        "    print(\"Circle perimeter:\", circle.perimeter())\n",
        "\n",
        "    rectangle.move(2, 3)\n",
        "    print(\"Rectangle position:\", rectangle.x, rectangle.y)\n",
        "\n",
        "    circle.set_color('green')\n",
        "    print(\"Circle color:\", circle.get_color())"
      ],
      "metadata": {
        "colab": {
          "base_uri": "https://localhost:8080/"
        },
        "id": "n7U-Bp8FI4nn",
        "outputId": "64d79411-d0b9-43ac-f7ff-4ec2eb4d02e6"
      },
      "execution_count": null,
      "outputs": [
        {
          "output_type": "stream",
          "name": "stdout",
          "text": [
            "Rectangle area: 15\n",
            "Rectangle perimeter: 16\n",
            "Circle area: 78.5\n",
            "Circle perimeter: 31.400000000000002\n",
            "Rectangle position:  2 3\n",
            "Circle color:  green\n"
          ]
        }
      ]
    },
    {
      "cell_type": "code",
      "source": [
        "# Multiple Inheritance\n",
        "\n",
        "class Buah:\n",
        "  def __init__(self, nama, harga, stok):\n",
        "    self.nama = nama\n",
        "    self.harga = harga\n",
        "    self.stok = stok\n",
        "\n",
        "  def beli(self, jumlah):\n",
        "    if jumlah <= self.stok:\n",
        "      self.stok -= jumlah\n",
        "      return self.harga * jumlah\n",
        "    else:\n",
        "      return 0\n",
        "\n",
        "  def tambah_stok(self, jumlah):\n",
        "    self.stok += jumlah\n",
        "\n",
        "  def get_nama(self):\n",
        "    return self.nama\n",
        "\n",
        "  def get_harga(self):\n",
        "    return self.harga\n",
        "\n",
        "  def get_stok(self):\n",
        "    return self.stok\n",
        "\n",
        "  def get_info(self):\n",
        "    return f\"{self.nama}, harga: {self.harga}, stok: {self.stok}\"\n",
        "\n",
        "class Customer:\n",
        "  def __init__(self, nama, saldo):\n",
        "    self.nama = nama\n",
        "    self.saldo = saldo\n",
        "\n",
        "  def beli(self, buah, jumlah):\n",
        "    total_harga = buah.beli(jumlah)\n",
        "    if total_harga > 0 and self.saldo >= total_harga:\n",
        "      self.saldo -= total_harga\n",
        "      return f\"{self.nama} membeli {jumlah} {buah.get_nama()} dengan harga {total_harga}\"\n",
        "    elif total_harga == 0:\n",
        "      return f\"Maaf, {buah.get_nama()} sedang kosong\"\n",
        "    else:\n",
        "      return f\"Maaf, saldo Anda tidak mencukupi\"\n",
        "\n",
        "  def topup(self, jumlah):\n",
        "    self.saldo += jumlah\n",
        "\n",
        "  def get_saldo(self):\n",
        "    return self.saldo\n",
        "\n",
        "  def get_info(self):\n",
        "    return f\"{self.nama}, saldo: {self.saldo}\"\n",
        "\n",
        "  def __str__(self):\n",
        "    return self.nama\n",
        "\n",
        "if __name__ == '__main__':\n",
        "  apel = Buah('apel', 5000, 10)\n",
        "  mangga = Buah('mangga', 7000, 5)\n",
        "  john = Customer('John', 50000)\n",
        "\n",
        "  print(apel.get_info())\n",
        "  print(mangga.get_info())\n",
        "\n",
        "  print(john.beli(apel, 3))\n",
        "  print(john.get_info())\n",
        "  print(apel.get_info())\n",
        "\n",
        "  print(john.beli(mangga, 10))\n",
        "  print(john.get_info())\n",
        "  print(mangga.get_info())\n",
        "\n",
        "  john.topup(100000)\n",
        "  print(john.get_info())\n",
        "\n",
        "  print(john.beli(apel, 5))\n",
        "  print(john.get_info())\n",
        "  print(apel.get_info())\n",
        "\n",
        "  print(john.beli(mangga, 2))\n",
        "  print(john.get_info())\n",
        "  print(mangga.get_info())"
      ],
      "metadata": {
        "colab": {
          "base_uri": "https://localhost:8080/"
        },
        "id": "ve_wrTYpOkqe",
        "outputId": "0cc55680-d1ab-43b9-d240-0bd0a24deeff"
      },
      "execution_count": null,
      "outputs": [
        {
          "output_type": "stream",
          "name": "stdout",
          "text": [
            "apel, harga: 5000, stok: 10\n",
            "mangga, harga: 7000, stok: 5\n",
            "John membeli 3 apel dengan harga 15000\n",
            "John, saldo: 35000\n",
            "apel, harga: 5000, stok: 7\n",
            "Maaf, mangga sedang kosong\n",
            "John, saldo: 35000\n",
            "mangga, harga: 7000, stok: 5\n",
            "John, saldo: 135000\n",
            "John membeli 5 apel dengan harga 25000\n",
            "John, saldo: 110000\n",
            "apel, harga: 5000, stok: 2\n",
            "John membeli 2 mangga dengan harga 14000\n",
            "John, saldo: 96000\n",
            "mangga, harga: 7000, stok: 3\n"
          ]
        }
      ]
    },
    {
      "cell_type": "code",
      "source": [
        "# Multilevel Inheritance\n",
        "\n",
        "class Mobil:\n",
        "  def __init__(self, merk, tahun, harga_sewa, status):\n",
        "    self.merk = merk\n",
        "    self.tahun = tahun\n",
        "    self.harga_sewa = harga_sewa\n",
        "    self.status = status\n",
        "\n",
        "  def info(self):\n",
        "    print(f\"Mobil {self.merk} tahun {self.tahun} dengan harga sewa per hari {self.harga_sewa}\")\n",
        "\n",
        "  def sewa(self):\n",
        "    if self.status == \"tersedia\":\n",
        "      print(\"Mobil berhasil disewa!\")\n",
        "      self.status = \"tidak tersedia\"\n",
        "    else:\n",
        "      print(\"Maaf, mobil sedang tidak tersedia untuk disewa.\")\n",
        "\n",
        "  def kembali(self):\n",
        "    if self.status == \"tidak tersedia\":\n",
        "      print(\"Terima kasih telah menyewa mobil kami!\")\n",
        "      self.status = \"tersedia\"\n",
        "    else:\n",
        "      print(\"Maaf, mobil belum disewa atau sudah dikembalikan.\")\n",
        "\n",
        "class MobilSUV(Mobil):\n",
        "  def __init__(self, merk, tahun, harga_sewa, status, kapasitas):\n",
        "    super().__init__(merk, tahun, harga_sewa, status)\n",
        "    self.kapasitas = kapasitas\n",
        "\n",
        "  def info(self):\n",
        "    print(f\"Mobil SUV {self.merk} tahun {self.tahun} dengan kapasitas {self.kapasitas} penumpang dan \")\n",
        "    print(f\"harga sewa per hari {self.harga_sewa}\")\n",
        "\n",
        "class MobilPickup(Mobil):\n",
        "  def __init__(self, merk, tahun, harga_sewa, status, kapasitas, muatan_maksimal):\n",
        "    super().__init__(merk, tahun, harga_sewa, status)\n",
        "    self.kapasitas = kapasitas\n",
        "    self.muatan_maksimal = muatan_maksimal\n",
        "\n",
        "  def info(self):\n",
        "    print(f\"Mobil pickup {self.merk} tahun {self.tahun} dengan kapasitas {self.kapasitas} penumpang dan \")\n",
        "    print(f\"muatan maksimal {self.muatan_maksimal} kg, dan harga sewa per hari {self.harga_sewa}\")\n",
        "\n",
        "mobil1 = Mobil(\"Honda Jazz\", 2020, 300000, \"tersedia\")\n",
        "mobil2 = MobilSUV(\"Toyota Fortuner\", 2019, 500000, \"tersedia\", 7)\n",
        "mobil3 = MobilPickup(\"Mitsubishi Triton\", 2018, 700000, \"tidak tersedia\", 5, 1000)\n",
        "\n",
        "mobil1.info()\n",
        "mobil1.sewa()\n",
        "mobil1.info()\n",
        "mobil1.kembali()\n",
        "mobil1.kembali()\n",
        "print()\n",
        "\n",
        "mobil2.info()\n",
        "mobil2.sewa()\n",
        "mobil2.kembali()\n",
        "print()\n",
        "\n",
        "mobil3.info()\n",
        "mobil3.sewa()\n",
        "mobil3.kembali()\n",
        "mobil3.sewa()"
      ],
      "metadata": {
        "colab": {
          "base_uri": "https://localhost:8080/"
        },
        "id": "7L1Fp_UOPsEA",
        "outputId": "ab11a0f0-4ecb-416d-c9f2-a2345f10cdb0"
      },
      "execution_count": null,
      "outputs": [
        {
          "output_type": "stream",
          "name": "stdout",
          "text": [
            "Mobil Honda Jazz tahun 2020 dengan harga sewa per hari 300000\n",
            "Mobil berhasil disewa!\n",
            "Mobil Honda Jazz tahun 2020 dengan harga sewa per hari 300000\n",
            "Terima kasih telah menyewa mobil kami!\n",
            "Maaf, mobil belum disewa atau sudah dikembalikan.\n",
            "\n",
            "Mobil SUV Toyota Fortuner tahun 2019 dengan kapasitas 7 penumpang dan \n",
            "harga sewa per hari 500000\n",
            "Mobil berhasil disewa!\n",
            "Terima kasih telah menyewa mobil kami!\n",
            "\n",
            "Mobil pickup Mitsubishi Triton tahun 2018 dengan kapasitas 5 penumpang dan \n",
            "muatan maksimal 1000 kg, dan harga sewa per hari 700000\n",
            "Maaf, mobil sedang tidak tersedia untuk disewa.\n",
            "Terima kasih telah menyewa mobil kami!\n",
            "Mobil berhasil disewa!\n"
          ]
        }
      ]
    },
    {
      "cell_type": "markdown",
      "source": [
        "# **OOP - 2/4/2024**"
      ],
      "metadata": {
        "id": "Gc_piVip3v1B"
      }
    },
    {
      "cell_type": "markdown",
      "source": [
        "# **ASSOCIATION**"
      ],
      "metadata": {
        "id": "fSlVTcFr8amb"
      }
    },
    {
      "cell_type": "code",
      "source": [
        "# class 1\n",
        "class Book:\n",
        "  # contructor with parameters\n",
        "  def __init__(self, title, author, isbn):\n",
        "    self.title = title\n",
        "    self.author = author\n",
        "    self.isbn = isbn\n",
        "\n",
        "  def __str__(self):\n",
        "    return f\"{self.title} by {self.author}.\"\n",
        "\n",
        "# class 2\n",
        "class Library:\n",
        "  # contructor without parameter\n",
        "  def __init__(self):\n",
        "    self.books = []\n",
        "\n",
        "  # fungsi menambah buku\n",
        "  def addBook(self, book):\n",
        "    print(\"Added this book: \"+book.__str__())\n",
        "\n",
        "  # fungsi menghapus buku\n",
        "  def removeBook(self, book):\n",
        "    self.books.remove(book)\n",
        "\n",
        "  # fungsi mencari buku berdasarkan judul\n",
        "  def searchBook(self, title):\n",
        "    for book in self.books:\n",
        "      if book.title == title:\n",
        "        return book\n",
        "    return None\n",
        "\n",
        "# class 3\n",
        "class Student:\n",
        "  # constructor with parameter\n",
        "  def __init__(self, name):\n",
        "    self.name = name\n",
        "    self.borrowed_book = None\n",
        "    print(self.name, \"has been registered.\")\n",
        "\n",
        "  # fungsi meminjam buku\n",
        "  def borrowBook(self, book):\n",
        "    if self.borrowed_book is None:\n",
        "      self.borrowed_book = book\n",
        "      print(self.name, \"has borrowed\", book.title)\n",
        "    else:\n",
        "      print(self.name, \"has already borrowed\", self.borrowed_book.title)\n",
        "\n",
        "  # fungsi mengembalikan buku\n",
        "  def returnBook(self):\n",
        "    if self.borrowed_book is not None:\n",
        "      book = self.borrowed_book\n",
        "      self.borrowed_book = None\n",
        "      print(self.name, \"has returned\", book.title)\n",
        "    else:\n",
        "      print(self.name, \"has not borrowed any book.\")\n",
        "\n",
        "  # fungsi menampilkan buku yang dipinjam\n",
        "  def viewBorrowedBooks(self):\n",
        "    if self.borrowed_book is not None:\n",
        "      print(self.name, \"has borrowed\", self.borrowed_book.title)\n",
        "    else:\n",
        "      print(self.name, \"has not borrowed any book.\")\n",
        "\n",
        "# create objek library\n",
        "unklab_library = Library()\n",
        "\n",
        "print(\"INPUT BUKU KE PERPUSTAKAAN:\")\n",
        "print(\"==========================\")\n",
        "# add beberapa buku ke perpustakaan\n",
        "book1 = Book(\"Python Programming\", \"Andre\", \"123456\")\n",
        "book2 = Book(\"Java Programming\", \"Tanya\", \"234567\")\n",
        "book3 = Book(\"C++ Programming\", \"Harissa\", \"345678\")\n",
        "unklab_library.addBook(book1)\n",
        "unklab_library.addBook(book2)\n",
        "unklab_library.addBook(book3)\n",
        "\n",
        "print(\"\\nMAHASISWA DAFTAR DI PERPUSTAKAAN:\")\n",
        "print(\"==================================\")\n",
        "# create objek mahasiswa\n",
        "student1 = Student(\"John\")\n",
        "student2 = Student(\"Peter\")\n",
        "student3 = Student(\"Ellen\")\n",
        "student4 = Student(\"Bobby\")\n",
        "student5 = Student(\"Daniel\")\n",
        "\n",
        "print(\"\\nPROSES PINJAM BUKU DI PERPUSTAKAAN:\")\n",
        "print(\"====================================\")\n",
        "student1.borrowBook(book1)\n",
        "student2.borrowBook(book2)\n",
        "student2.borrowBook(book3) # tidak bisa meminjam lebih dari satu buku.\n",
        "student3.borrowBook(book2)\n",
        "student4.borrowBook(book3)\n",
        "student5.borrowBook(book3)\n",
        "print()\n",
        "\n",
        "# view buku yang dipinjam\n",
        "student1.viewBorrowedBooks()\n",
        "student2.viewBorrowedBooks()\n",
        "print()\n",
        "\n",
        "# mengembalikan buku\n",
        "student1.returnBook()\n",
        "student2.returnBook()\n",
        "print()\n",
        "\n",
        "# view buku yang dipinjam setelah dikembalikan\n",
        "student1.viewBorrowedBooks()\n",
        "student2.viewBorrowedBooks()"
      ],
      "metadata": {
        "colab": {
          "base_uri": "https://localhost:8080/"
        },
        "id": "tmxKOvYw308w",
        "outputId": "bd72fb72-c727-43b8-b4a0-b9a53e5f07e4"
      },
      "execution_count": null,
      "outputs": [
        {
          "output_type": "stream",
          "name": "stdout",
          "text": [
            "INPUT BUKU KE PERPUSTAKAAN:\n",
            "==========================\n",
            "Added this book: Python Programming by Andre.\n",
            "Added this book: Java Programming by Tanya.\n",
            "Added this book: C++ Programming by Harissa.\n",
            "\n",
            "MAHASISWA DAFTAR DI PERPUSTAKAAN:\n",
            "==================================\n",
            "John has been registered.\n",
            "Peter has been registered.\n",
            "Ellen has been registered.\n",
            "Bobby has been registered.\n",
            "Daniel has been registered.\n",
            "\n",
            "PROSES PINJAM BUKU DI PERPUSTAKAAN:\n",
            "====================================\n",
            "John has borrowed Python Programming\n",
            "Peter has borrowed Java Programming\n",
            "Peter has already borrowed Java Programming\n",
            "Ellen has borrowed Java Programming\n",
            "Bobby has borrowed C++ Programming\n",
            "Daniel has borrowed C++ Programming\n",
            "\n",
            "John has borrowed Python Programming\n",
            "Peter has borrowed Java Programming\n",
            "\n",
            "John has returned Python Programming\n",
            "Peter has returned Java Programming\n",
            "\n",
            "John has not borrowed any book.\n",
            "Peter has not borrowed any book.\n"
          ]
        }
      ]
    }
  ]
}